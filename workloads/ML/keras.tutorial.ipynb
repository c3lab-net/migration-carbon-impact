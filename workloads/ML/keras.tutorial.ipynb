{
 "cells": [
  {
   "cell_type": "code",
   "execution_count": null,
   "metadata": {},
   "outputs": [],
   "source": [
    "from tensorflow.keras.applications.resnet50 import ResNet50\n",
    "from tensorflow.keras.preprocessing import image\n",
    "from tensorflow.keras.applications.resnet50 import preprocess_input, decode_predictions\n",
    "import numpy as np\n",
    "\n",
    "import os, sys\n",
    "import time"
   ]
  },
  {
   "cell_type": "code",
   "execution_count": null,
   "metadata": {},
   "outputs": [],
   "source": [
    "max_count = 1000"
   ]
  },
  {
   "cell_type": "code",
   "execution_count": null,
   "metadata": {},
   "outputs": [],
   "source": [
    "model = ResNet50(weights='imagenet')\n",
    "\n",
    "# img_path = os.path.join(os.path.curdir, \"../../data/ML/image-recognition/PetImages/Dog/0.jpg\")\n",
    "img_dir = os.path.join(os.path.curdir, \"../../data/ML/image-recognition/PetImages/Dog/\")\n",
    "l_preprocessed_input = []\n",
    "\n",
    "print(\"Starting to load and preprocess images ...\", file=sys.stderr)\n",
    "\n",
    "time_load_start = time.time()\n",
    "total_image_size_in_bytes = 0\n",
    "for filename in os.listdir(img_dir):\n",
    "    if not filename.endswith(\".jpg\"):\n",
    "        continue\n",
    "    img_path = os.path.join(img_dir, filename)\n",
    "    img = image.load_img(img_path, target_size=(224, 224))\n",
    "    x = image.img_to_array(img)\n",
    "    x = np.expand_dims(x, axis=0)\n",
    "    x = preprocess_input(x)\n",
    "    l_preprocessed_input.append(x)\n",
    "\n",
    "    img_size = os.path.getsize(img_path)\n",
    "    total_image_size_in_bytes += img_size\n",
    "\n",
    "    if len(l_preprocessed_input) >= max_count:\n",
    "        break\n",
    "time_load_end = time.time()\n",
    "print(\"Done\", file=sys.stderr)\n",
    "\n",
    "print(\"Starting to predict images ...\", file=sys.stderr)\n",
    "time_predict_start = time.time()\n",
    "for x in l_preprocessed_input:\n",
    "    preds = model.predict(x)\n",
    "    # decode the results into a list of tuples (class, description, probability)\n",
    "    # (one such list for each sample in the batch)\n",
    "    # print('Predicted:', decode_predictions(preds, top=3)[0])\n",
    "    # Predicted: [(u'n02504013', u'Indian_elephant', 0.82658225), (u'n01871265', u'tusker', 0.1122357), (u'n02504458', u'African_elephant', 0.061040461)]\n",
    "time_predict_end = time.time()\n",
    "print(\"Done\", file=sys.stderr)"
   ]
  },
  {
   "cell_type": "code",
   "execution_count": null,
   "metadata": {},
   "outputs": [],
   "source": [
    "print(\"# of images: %d\" % len(l_preprocessed_input))\n",
    "print(\"Total input size: %.3fMB\" % (total_image_size_in_bytes / pow(1024, 2)))\n",
    "print(\"Loading and preprocessing: %.2fs\" % (time_load_end - time_load_start))\n",
    "print(\"Predicting: %.2fs\" % (time_predict_end - time_predict_start))"
   ]
  },
  {
   "cell_type": "code",
   "execution_count": null,
   "metadata": {},
   "outputs": [],
   "source": []
  }
 ],
 "metadata": {
  "interpreter": {
   "hash": "f4b2b99a47670504d2dd683f5572808515673a655ee6afb4e6e06176b2853744"
  },
  "kernelspec": {
   "display_name": "Python 3.9.12 ('tf')",
   "language": "python",
   "name": "python3"
  },
  "language_info": {
   "codemirror_mode": {
    "name": "ipython",
    "version": 3
   },
   "file_extension": ".py",
   "mimetype": "text/x-python",
   "name": "python",
   "nbconvert_exporter": "python",
   "pygments_lexer": "ipython3",
   "version": "3.9.12"
  },
  "orig_nbformat": 4
 },
 "nbformat": 4,
 "nbformat_minor": 2
}
