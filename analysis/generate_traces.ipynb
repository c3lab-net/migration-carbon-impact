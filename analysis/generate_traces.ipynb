{
 "cells": [
  {
   "cell_type": "markdown",
   "metadata": {},
   "source": [
    "# Preparing"
   ]
  },
  {
   "cell_type": "markdown",
   "metadata": {},
   "source": [
    "## Import"
   ]
  },
  {
   "cell_type": "code",
   "execution_count": 6,
   "metadata": {
    "ExecuteTime": {
     "end_time": "2021-06-30T09:25:09.699726Z",
     "start_time": "2021-06-30T09:25:08.296223Z"
    }
   },
   "outputs": [],
   "source": [
    "import json\n",
    "import numpy as np\n",
    "import pandas as pd\n",
    "import matplotlib\n",
    "import matplotlib.pyplot as plt\n",
    "from matplotlib.ticker import *\n",
    "from matplotlib.dates import *\n",
    "\n",
    "import datetime"
   ]
  },
  {
   "cell_type": "code",
   "execution_count": null,
   "metadata": {
    "ExecuteTime": {
     "end_time": "2021-06-30T09:25:56.804953Z",
     "start_time": "2021-06-30T09:25:09.701286Z"
    }
   },
   "outputs": [],
   "source": [
    "def get_df(file, header=None):                                                                 \n",
    "    df = pd.read_csv(file, header=None)                                                        \n",
    "    df.columns = pd.read_csv(\"{}.header\".format(file.split('.csv')[0])).columns if header is None else header\n",
    "    return df\n",
    "\n",
    "DATA_DIR = '../../clusterdata/cluster-trace-gpu-v2020/data/'\n",
    "dfs = get_df(DATA_DIR + 'pai_sensor_table.csv')\n",
    "dfj = get_df(DATA_DIR + 'pai_job_table.csv')\n",
    "dft = get_df(DATA_DIR + 'pai_task_table.csv')"
   ]
  },
  {
   "cell_type": "markdown",
   "metadata": {},
   "source": [
    "# Select eligible jobs from the initial dataset\n",
    "\n",
    "Eligible jobs are:\n",
    "1. The job has sucessfully completed\n",
    "2. The job is a *training* job (defined by \"task_name\" == \"worker\")\n",
    "3. The job uses no GPU resources. *This can be changed when we update our power model to include GPUs*"
   ]
  },
  {
   "cell_type": "code",
   "execution_count": 15,
   "metadata": {
    "scrolled": true
   },
   "outputs": [],
   "source": [
    "# Criteria 2 and 3\n",
    "selection = dfs[(dfs.gpu_wrk_util == 0) & \\\n",
    "                (dfs.task_name == \"worker\")]\n",
    "\n",
    "# Criteria 1\n",
    "selection = selection[selection.job_name.isin(dfj[dfj.status == \"Terminated\"].job_name)]"
   ]
  },
  {
   "cell_type": "code",
   "execution_count": 16,
   "metadata": {},
   "outputs": [],
   "source": [
    "column_include = [\"cpu_usage\", \"gpu_wrk_util\", \"read\", \"write\"]\n",
    "\n",
    "# Join with the tasks table to get the start and end time\n",
    "df = dft[dft.task_name == \"worker\"][[\"job_name\", \"start_time\", \"end_time\"]] \\\n",
    "                                           .join(other=selection.groupby(\"job_name\")[column_include].sum(), on=\"job_name\") \\\n",
    "                                           .dropna()\n",
    "\n",
    "# Convert start and end times to datetime to make them easier to work with\n",
    "df[\"start_time\"] = pd.to_datetime(df.start_time, unit=\"s\").dt.tz_localize(\"Asia/Shanghai\")\n",
    "df[\"end_time\"] = pd.to_datetime(df.end_time, unit=\"s\").dt.tz_localize(\"Asia/Shanghai\")\n",
    "df[\"runtime\"] = df.end_time - df.start_time"
   ]
  },
  {
   "cell_type": "markdown",
   "metadata": {},
   "source": [
    "## Generate trace"
   ]
  },
  {
   "cell_type": "code",
   "execution_count": 17,
   "metadata": {},
   "outputs": [],
   "source": [
    "sample = df.sample(n=100, random_state=0)"
   ]
  },
  {
   "cell_type": "code",
   "execution_count": 26,
   "metadata": {},
   "outputs": [
    {
     "name": "stdout",
     "output_type": "stream",
     "text": [
      "{\"runtime_s\": 141.0, \"input_size_gb\": 0.03356373688888889, \"output_size_gb\": 0.009619868777777778, \"core_count\": 1.52, \"start_time\": \"1970-02-09T16:18:40+08:00\"}\n",
      "{\"runtime_s\": 294.0, \"input_size_gb\": 0.38629346157393485, \"output_size_gb\": 0.4247153953057644, \"core_count\": 2.8652941176470588, \"start_time\": \"1970-02-09T07:13:54+08:00\"}\n",
      "{\"runtime_s\": 829.0, \"input_size_gb\": 0.017432657323529412, \"output_size_gb\": 0.008854835105882352, \"core_count\": 19.550359281437128, \"start_time\": \"1970-01-31T00:40:05+08:00\"}\n",
      "{\"runtime_s\": 66.0, \"input_size_gb\": 0.028640983800000002, \"output_size_gb\": 0.0074330648, \"core_count\": 0.29714285714285715, \"start_time\": \"1970-03-04T05:35:26+08:00\"}\n",
      "{\"runtime_s\": 1327.0, \"input_size_gb\": 0.0035751257472118963, \"output_size_gb\": 0.26032428135687735, \"core_count\": 0.20022641509433967, \"start_time\": \"1970-02-27T15:31:33+08:00\"}\n",
      "{\"runtime_s\": 20724.0, \"input_size_gb\": 0.5942956345923244, \"output_size_gb\": 0.4912030020564809, \"core_count\": 3.6562768784730624, \"start_time\": \"1970-02-10T04:51:59+08:00\"}\n",
      "{\"runtime_s\": 90292.0, \"input_size_gb\": 0.007749292397350992, \"output_size_gb\": 0.004787052927152318, \"core_count\": 0.7328378378378381, \"start_time\": \"1970-02-05T12:09:23+08:00\"}\n",
      "{\"runtime_s\": 791.0, \"input_size_gb\": 0.09668978985867838, \"output_size_gb\": 0.0890513459857105, \"core_count\": 2.915371780792934, \"start_time\": \"1970-01-28T23:59:48+08:00\"}\n",
      "{\"runtime_s\": 6279.0, \"input_size_gb\": 0.01440787290430622, \"output_size_gb\": 0.05994040149282297, \"core_count\": 1.5532507987220447, \"start_time\": \"1970-02-13T06:31:25+08:00\"}\n",
      "{\"runtime_s\": 2841.0, \"input_size_gb\": 0.013699417821428571, \"output_size_gb\": 0.005004282321428572, \"core_count\": 0.87875, \"start_time\": \"1970-02-22T03:29:05+08:00\"}\n",
      "{\"runtime_s\": 24.0, \"input_size_gb\": 0.03339118744444444, \"output_size_gb\": 0.009286533666666666, \"core_count\": 0.5, \"start_time\": \"1970-02-26T23:52:16+08:00\"}\n",
      "{\"runtime_s\": 167.0, \"input_size_gb\": 0.32420929752265354, \"output_size_gb\": 0.3066270271595567, \"core_count\": 5.407599642488575, \"start_time\": \"1970-03-04T17:00:32+08:00\"}\n",
      "{\"runtime_s\": 44.0, \"input_size_gb\": 0.027785414363636362, \"output_size_gb\": 0.008112177363636362, \"core_count\": 1.1014285714285714, \"start_time\": \"1970-02-18T15:46:57+08:00\"}\n",
      "{\"runtime_s\": 43.0, \"input_size_gb\": 0.01709926590909091, \"output_size_gb\": 0.008321054363636362, \"core_count\": 2.27, \"start_time\": \"1970-02-18T07:13:54+08:00\"}\n",
      "{\"runtime_s\": 162.0, \"input_size_gb\": 0.03871150816666666, \"output_size_gb\": 0.022284336800000002, \"core_count\": 0.4592307692307693, \"start_time\": \"1970-01-27T19:46:23+08:00\"}\n",
      "{\"runtime_s\": 127.0, \"input_size_gb\": 0.03156197526923077, \"output_size_gb\": 0.025602309807692313, \"core_count\": 0.38136363636363635, \"start_time\": \"1970-02-03T09:36:10+08:00\"}\n",
      "{\"runtime_s\": 3412.0, \"input_size_gb\": 0.015755378681818182, \"output_size_gb\": 0.015121025181818182, \"core_count\": 0.1457142857142857, \"start_time\": \"1970-03-12T10:58:38+08:00\"}\n",
      "{\"runtime_s\": 9141.0, \"input_size_gb\": 0.09506958663131813, \"output_size_gb\": 0.002118728095143706, \"core_count\": 3.971601990049752, \"start_time\": \"1970-03-07T05:15:08+08:00\"}\n",
      "{\"runtime_s\": 45.0, \"input_size_gb\": 0.018864231699999998, \"output_size_gb\": 0.008600030199999999, \"core_count\": 0.8816666666666668, \"start_time\": \"1970-02-03T13:47:17+08:00\"}\n",
      "{\"runtime_s\": 160.0, \"input_size_gb\": 0.291448129, \"output_size_gb\": 0.01887614055555556, \"core_count\": 1.2535294117647058, \"start_time\": \"1970-03-13T02:39:00+08:00\"}\n",
      "{\"runtime_s\": 80.0, \"input_size_gb\": 0.02822582254545455, \"output_size_gb\": 0.008680723636363637, \"core_count\": 0.44857142857142845, \"start_time\": \"1970-03-12T06:12:25+08:00\"}\n",
      "{\"runtime_s\": 42.0, \"input_size_gb\": 0.0188003093, \"output_size_gb\": 0.008497059900000001, \"core_count\": 0.935, \"start_time\": \"1970-02-22T09:31:56+08:00\"}\n",
      "{\"runtime_s\": 49.0, \"input_size_gb\": 0.025335260833333328, \"output_size_gb\": 0.007491747916666668, \"core_count\": 0.7375, \"start_time\": \"1970-01-31T15:01:55+08:00\"}\n",
      "{\"runtime_s\": 20201.0, \"input_size_gb\": 0.0052288004636713735, \"output_size_gb\": 0.0001267650218228498, \"core_count\": 4.9729760986892835, \"start_time\": \"1970-03-03T05:06:53+08:00\"}\n",
      "{\"runtime_s\": 61.0, \"input_size_gb\": 0.044549179538461534, \"output_size_gb\": 0.05075397069230771, \"core_count\": 1.0622222222222224, \"start_time\": \"1970-03-01T02:22:35+08:00\"}\n",
      "{\"runtime_s\": 317.0, \"input_size_gb\": 0.6488325108041195, \"output_size_gb\": 0.38832172143016924, \"core_count\": 14.746080088360163, \"start_time\": \"1970-02-07T06:13:01+08:00\"}\n",
      "{\"runtime_s\": 55.0, \"input_size_gb\": 0.025425058083333327, \"output_size_gb\": 0.007459107166666668, \"core_count\": 0.5525, \"start_time\": \"1970-03-08T22:47:08+08:00\"}\n",
      "{\"runtime_s\": 50.0, \"input_size_gb\": 2.6421173127844515, \"output_size_gb\": 3.105027092248557, \"core_count\": 21.583785714285714, \"start_time\": \"1970-02-10T07:54:24+08:00\"}\n",
      "{\"runtime_s\": 55.0, \"input_size_gb\": 0.470643205125, \"output_size_gb\": 0.74652359375, \"core_count\": 0.6123076923076921, \"start_time\": \"1970-02-12T07:44:35+08:00\"}\n",
      "{\"runtime_s\": 792.0, \"input_size_gb\": 0.015795821947826087, \"output_size_gb\": 0.05463108586956522, \"core_count\": 0.6924324324324325, \"start_time\": \"1970-02-05T00:51:07+08:00\"}\n",
      "{\"runtime_s\": 71.0, \"input_size_gb\": 0.22403081206666667, \"output_size_gb\": 0.23267940166666665, \"core_count\": 1.518181818181818, \"start_time\": \"1970-02-03T20:00:55+08:00\"}\n",
      "{\"runtime_s\": 166.0, \"input_size_gb\": 0.08622282064229218, \"output_size_gb\": 0.11966913452900124, \"core_count\": 1.313654401154401, \"start_time\": \"1970-02-26T14:07:25+08:00\"}\n",
      "{\"runtime_s\": 44.0, \"input_size_gb\": 0.026511935083333327, \"output_size_gb\": 0.008511105583333334, \"core_count\": 1.3122222222222222, \"start_time\": \"1970-03-02T00:12:15+08:00\"}\n",
      "{\"runtime_s\": 45.0, \"input_size_gb\": 0.0262024785, \"output_size_gb\": 0.007465098083333332, \"core_count\": 0.4522222222222222, \"start_time\": \"1970-02-26T18:13:03+08:00\"}\n",
      "{\"runtime_s\": 35.0, \"input_size_gb\": 0.026898540666666672, \"output_size_gb\": 0.009279152888888888, \"core_count\": 0.414, \"start_time\": \"1970-03-04T23:42:41+08:00\"}\n",
      "{\"runtime_s\": 216.0, \"input_size_gb\": 0.02756045976190476, \"output_size_gb\": 0.007960156238095237, \"core_count\": 0.28647058823529414, \"start_time\": \"1970-02-28T23:33:15+08:00\"}\n",
      "{\"runtime_s\": 1198.0, \"input_size_gb\": 0.07246036538011695, \"output_size_gb\": 0.02507107174239766, \"core_count\": 4.1552549019607845, \"start_time\": \"1970-01-26T16:38:03+08:00\"}\n",
      "{\"runtime_s\": 126.0, \"input_size_gb\": 0.03634011062700229, \"output_size_gb\": 0.018625178144164756, \"core_count\": 1.4438947368421051, \"start_time\": \"1970-03-10T14:44:02+08:00\"}\n",
      "{\"runtime_s\": 271.0, \"input_size_gb\": 0.02542503251428572, \"output_size_gb\": 0.02630404702857143, \"core_count\": 0.6612903225806451, \"start_time\": \"1970-01-29T12:17:20+08:00\"}\n",
      "{\"runtime_s\": 38.0, \"input_size_gb\": 0.02844363445454545, \"output_size_gb\": 0.008135282727272727, \"core_count\": 0.6285714285714284, \"start_time\": \"1970-02-26T20:31:42+08:00\"}\n",
      "{\"runtime_s\": 55.0, \"input_size_gb\": 0.1832045525, \"output_size_gb\": 0.2536922169285714, \"core_count\": 0.520909090909091, \"start_time\": \"1970-02-12T22:55:59+08:00\"}\n",
      "{\"runtime_s\": 255.0, \"input_size_gb\": 0.18487584722222208, \"output_size_gb\": 0.03206476503703704, \"core_count\": 1.0576470588235294, \"start_time\": \"1970-03-02T13:02:22+08:00\"}\n",
      "{\"runtime_s\": 118.0, \"input_size_gb\": 0.042757722222222225, \"output_size_gb\": 0.004697279777777778, \"core_count\": 0.37133333333333335, \"start_time\": \"1970-03-14T05:11:53+08:00\"}\n",
      "{\"runtime_s\": 3265.0, \"input_size_gb\": 3.109509195065762, \"output_size_gb\": 7.371290378117342, \"core_count\": 118.36187276585592, \"start_time\": \"1970-02-08T19:27:45+08:00\"}\n",
      "{\"runtime_s\": 628.0, \"input_size_gb\": 0.027976144446808508, \"output_size_gb\": 0.03433756956382979, \"core_count\": 2.1012222222222223, \"start_time\": \"1970-02-11T23:00:00+08:00\"}\n",
      "{\"runtime_s\": 179.0, \"input_size_gb\": 0.17153993551768162, \"output_size_gb\": 0.20927567343301465, \"core_count\": 1.290920745920746, \"start_time\": \"1970-03-08T04:00:39+08:00\"}\n",
      "{\"runtime_s\": 44.0, \"input_size_gb\": 0.0285430251, \"output_size_gb\": 0.0083876028, \"core_count\": 0.285, \"start_time\": \"1970-03-04T20:48:17+08:00\"}\n",
      "{\"runtime_s\": 3577.0, \"input_size_gb\": 0.03233047206965265, \"output_size_gb\": 0.0064888125791079726, \"core_count\": 3.798501521962689, \"start_time\": \"1970-02-20T13:47:55+08:00\"}\n",
      "{\"runtime_s\": 22793.0, \"input_size_gb\": 3.425907555940147, \"output_size_gb\": 0.005554466866345422, \"core_count\": 1.9821782178217828, \"start_time\": \"1970-01-31T23:33:40+08:00\"}\n",
      "{\"runtime_s\": 21569.0, \"input_size_gb\": 0.12795357346405567, \"output_size_gb\": 0.000616515517695356, \"core_count\": 130.6227067262789, \"start_time\": \"1970-01-25T18:57:57+08:00\"}\n",
      "{\"runtime_s\": 22.0, \"input_size_gb\": 0.1419342845, \"output_size_gb\": 0.011320326875, \"core_count\": 1.0666666666666669, \"start_time\": \"1970-02-15T07:21:45+08:00\"}\n",
      "{\"runtime_s\": 813.0, \"input_size_gb\": 0.179452643040404, \"output_size_gb\": 0.1164826757979798, \"core_count\": 3.2262857142857144, \"start_time\": \"1970-02-06T02:25:02+08:00\"}\n",
      "{\"runtime_s\": 1079.0, \"input_size_gb\": 0.006529483025641026, \"output_size_gb\": 0.007601343733333332, \"core_count\": 11.020209424083768, \"start_time\": \"1970-03-12T11:45:27+08:00\"}\n",
      "{\"runtime_s\": 54.0, \"input_size_gb\": 0.5367739779710956, \"output_size_gb\": 0.5557293052419581, \"core_count\": 4.786555555555555, \"start_time\": \"1970-02-10T17:03:12+08:00\"}\n",
      "{\"runtime_s\": 71.0, \"input_size_gb\": 0.0180592765, \"output_size_gb\": 0.0048852351875, \"core_count\": 0.853076923076923, \"start_time\": \"1970-02-11T09:49:26+08:00\"}\n",
      "{\"runtime_s\": 267.0, \"input_size_gb\": 0.013242501228070176, \"output_size_gb\": 0.016359037789473684, \"core_count\": 1.220377358490566, \"start_time\": \"1970-02-04T05:29:46+08:00\"}\n",
      "{\"runtime_s\": 64.0, \"input_size_gb\": 0.02237134782352941, \"output_size_gb\": 0.0059635185294117645, \"core_count\": 1.014615384615385, \"start_time\": \"1970-01-27T10:27:37+08:00\"}\n",
      "{\"runtime_s\": 7191.0, \"input_size_gb\": 0.042484876267973856, \"output_size_gb\": 0.009542135477124182, \"core_count\": 0.5738571428571428, \"start_time\": \"1970-02-20T01:21:36+08:00\"}\n",
      "{\"runtime_s\": 42.0, \"input_size_gb\": 0.020911392777777777, \"output_size_gb\": 0.009443048777777779, \"core_count\": 0.858, \"start_time\": \"1970-02-13T10:33:14+08:00\"}\n",
      "{\"runtime_s\": 226.0, \"input_size_gb\": 0.01942956236170213, \"output_size_gb\": 0.02156168434042553, \"core_count\": 1.2727906976744183, \"start_time\": \"1970-03-07T15:18:31+08:00\"}\n",
      "{\"runtime_s\": 295.0, \"input_size_gb\": 0.02602345993236715, \"output_size_gb\": 0.00910438907004831, \"core_count\": 0.49857142857142844, \"start_time\": \"1970-02-25T09:56:09+08:00\"}\n",
      "{\"runtime_s\": 52.0, \"input_size_gb\": 0.027680701181818184, \"output_size_gb\": 0.008153160636363638, \"core_count\": 0.6857142857142857, \"start_time\": \"1970-02-02T22:46:55+08:00\"}\n",
      "{\"runtime_s\": 17612.0, \"input_size_gb\": 0.0041305235032624114, \"output_size_gb\": 0.00011614385021276596, \"core_count\": 42.45954842374326, \"start_time\": \"1970-01-28T22:13:32+08:00\"}\n",
      "{\"runtime_s\": 1323.0, \"input_size_gb\": 0.11059504095798214, \"output_size_gb\": 0.11803241440377017, \"core_count\": 5.983302047190063, \"start_time\": \"1970-02-24T04:49:08+08:00\"}\n",
      "{\"runtime_s\": 336.0, \"input_size_gb\": 0.023409719615384617, \"output_size_gb\": 0.006872834076923078, \"core_count\": 0.46666666666666656, \"start_time\": \"1970-03-10T22:01:46+08:00\"}\n",
      "{\"runtime_s\": 123.0, \"input_size_gb\": 0.2399656154345747, \"output_size_gb\": 0.2879761741739927, \"core_count\": 1.4755879446640316, \"start_time\": \"1970-02-02T08:00:57+08:00\"}\n",
      "{\"runtime_s\": 84.0, \"input_size_gb\": 0.11376767366666665, \"output_size_gb\": 0.1288311469166667, \"core_count\": 1.054090909090909, \"start_time\": \"1970-02-02T07:24:52+08:00\"}\n",
      "{\"runtime_s\": 89.0, \"input_size_gb\": 0.14563123541067374, \"output_size_gb\": 0.04529824553474523, \"core_count\": 5.665282051282052, \"start_time\": \"1970-02-14T20:31:01+08:00\"}\n",
      "{\"runtime_s\": 78.0, \"input_size_gb\": 0.06815828855, \"output_size_gb\": 0.009998598021428573, \"core_count\": 1.507625, \"start_time\": \"1970-01-25T17:53:27+08:00\"}\n",
      "{\"runtime_s\": 32.0, \"input_size_gb\": 0.029740879857142858, \"output_size_gb\": 0.010530988857142856, \"core_count\": 0.81, \"start_time\": \"1970-01-31T21:02:41+08:00\"}\n",
      "{\"runtime_s\": 95.0, \"input_size_gb\": 0.013744309785714283, \"output_size_gb\": 0.006474773642857143, \"core_count\": 0.423, \"start_time\": \"1970-02-26T15:34:01+08:00\"}\n",
      "{\"runtime_s\": 206.0, \"input_size_gb\": 0.017680545777777775, \"output_size_gb\": 0.023957153622222224, \"core_count\": 1.1560975609756097, \"start_time\": \"1970-02-02T03:51:26+08:00\"}\n",
      "{\"runtime_s\": 52.0, \"input_size_gb\": 0.017079802636363637, \"output_size_gb\": 0.007791145, \"core_count\": 0.83, \"start_time\": \"1970-01-28T19:18:35+08:00\"}\n",
      "{\"runtime_s\": 61.0, \"input_size_gb\": 0.019152678125, \"output_size_gb\": 0.010217824125, \"core_count\": 0.5475, \"start_time\": \"1970-02-25T09:25:46+08:00\"}\n",
      "{\"runtime_s\": 16863.0, \"input_size_gb\": 0.007483594804148148, \"output_size_gb\": 0.00019781231585185184, \"core_count\": 43.97268169682589, \"start_time\": \"1970-02-11T17:23:51+08:00\"}\n",
      "{\"runtime_s\": 22292.0, \"input_size_gb\": 0.005808307066352836, \"output_size_gb\": 0.00011464581730553689, \"core_count\": 35.55470720215392, \"start_time\": \"1970-02-03T21:45:41+08:00\"}\n",
      "{\"runtime_s\": 248.0, \"input_size_gb\": 0.2059071239726634, \"output_size_gb\": 0.0393102653411683, \"core_count\": 2.176219280719281, \"start_time\": \"1970-02-24T10:18:57+08:00\"}\n",
      "{\"runtime_s\": 7394.0, \"input_size_gb\": 0.31706634474012063, \"output_size_gb\": 0.3209860041542987, \"core_count\": 2.694980574980575, \"start_time\": \"1970-01-26T04:38:52+08:00\"}\n",
      "{\"runtime_s\": 25743.0, \"input_size_gb\": 0.005270785927392739, \"output_size_gb\": 9.719113589594254e-05, \"core_count\": 37.18992228482611, \"start_time\": \"1970-01-27T02:38:39+08:00\"}\n",
      "{\"runtime_s\": 47.0, \"input_size_gb\": 0.05992488246153846, \"output_size_gb\": 0.05583932138461538, \"core_count\": 0.34555555555555556, \"start_time\": \"1970-02-25T01:25:24+08:00\"}\n",
      "{\"runtime_s\": 495.0, \"input_size_gb\": 0.04011931420648149, \"output_size_gb\": 0.10491234682685184, \"core_count\": 1.335, \"start_time\": \"1970-02-03T02:53:09+08:00\"}\n",
      "{\"runtime_s\": 54.0, \"input_size_gb\": 0.033677466826923075, \"output_size_gb\": 0.013594148153846153, \"core_count\": 1.7795959595959596, \"start_time\": \"1970-02-04T23:44:13+08:00\"}\n",
      "{\"runtime_s\": 22638.0, \"input_size_gb\": 0.0019716298223852184, \"output_size_gb\": 0.0021946036730067842, \"core_count\": 8.99972098304781, \"start_time\": \"1970-02-10T16:19:21+08:00\"}\n",
      "{\"runtime_s\": 1600.0, \"input_size_gb\": 5.284658163040575, \"output_size_gb\": 0.022665841688987918, \"core_count\": 32.79420311086152, \"start_time\": \"1970-03-03T18:44:30+08:00\"}\n",
      "{\"runtime_s\": 2111.0, \"input_size_gb\": 0.024581396023710997, \"output_size_gb\": 0.03398442160099095, \"core_count\": 0.37624999345842125, \"start_time\": \"1970-02-22T12:01:06+08:00\"}\n",
      "{\"runtime_s\": 227.0, \"input_size_gb\": 0.49966256643915274, \"output_size_gb\": 0.479586944218439, \"core_count\": 5.09904039016539, \"start_time\": \"1970-02-02T04:07:47+08:00\"}\n",
      "{\"runtime_s\": 145.0, \"input_size_gb\": 0.01999097967647059, \"output_size_gb\": 0.0089034875, \"core_count\": 11.40258064516129, \"start_time\": \"1970-02-05T16:40:45+08:00\"}\n",
      "{\"runtime_s\": 38.0, \"input_size_gb\": 0.027539611363636363, \"output_size_gb\": 0.008146985818181818, \"core_count\": 0.7714285714285714, \"start_time\": \"1970-02-03T11:18:13+08:00\"}\n",
      "{\"runtime_s\": 1451.0, \"input_size_gb\": 0.06863182668247582, \"output_size_gb\": 0.025909435256218305, \"core_count\": 1.5357179837609158, \"start_time\": \"1970-03-01T11:29:32+08:00\"}\n",
      "{\"runtime_s\": 2788.0, \"input_size_gb\": 86.81293427393985, \"output_size_gb\": 0.20668853604042556, \"core_count\": 116.92871386414657, \"start_time\": \"1970-02-08T20:50:27+08:00\"}\n",
      "{\"runtime_s\": 32.0, \"input_size_gb\": 0.02900593857142857, \"output_size_gb\": 0.010551239285714284, \"core_count\": 0.8066666666666668, \"start_time\": \"1970-02-07T20:47:01+08:00\"}\n",
      "{\"runtime_s\": 19216.0, \"input_size_gb\": 0.007181745507152147, \"output_size_gb\": 0.00011963833472041616, \"core_count\": 45.72829211142932, \"start_time\": \"1970-01-27T02:40:58+08:00\"}\n",
      "{\"runtime_s\": 17587.0, \"input_size_gb\": 0.003436672877840909, \"output_size_gb\": 0.000118965175, \"core_count\": 24.897529144156948, \"start_time\": \"1970-02-19T04:52:27+08:00\"}\n",
      "{\"runtime_s\": 9012.0, \"input_size_gb\": 0.3000335454210527, \"output_size_gb\": 0.3474403434736842, \"core_count\": 1.6553333333333333, \"start_time\": \"1970-03-10T21:32:46+08:00\"}\n",
      "{\"runtime_s\": 64.0, \"input_size_gb\": 0.01916686423529412, \"output_size_gb\": 0.006644695176470588, \"core_count\": 4.214615384615384, \"start_time\": \"1970-01-30T16:33:15+08:00\"}\n",
      "{\"runtime_s\": 57.0, \"input_size_gb\": 0.072381017, \"output_size_gb\": 0.08471194508333332, \"core_count\": 0.34555555555555556, \"start_time\": \"1970-03-06T06:58:43+08:00\"}\n",
      "{\"runtime_s\": 68.0, \"input_size_gb\": 0.019751740294117647, \"output_size_gb\": 0.0049849035882352935, \"core_count\": 0.5707692307692307, \"start_time\": \"1970-02-06T03:06:40+08:00\"}\n",
      "{\"runtime_s\": 51.0, \"input_size_gb\": 0.026860295, \"output_size_gb\": 0.013814627666666664, \"core_count\": 0.435, \"start_time\": \"1970-02-10T03:33:45+08:00\"}\n",
      "{\"runtime_s\": 2709.0, \"input_size_gb\": 0.040246979875, \"output_size_gb\": 0.00527706925, \"core_count\": 0.6341666666666665, \"start_time\": \"1970-02-17T00:55:58+08:00\"}\n",
      "{\"runtime_s\": 10532.0, \"input_size_gb\": 0.007181780444075829, \"output_size_gb\": 0.00015890411090047394, \"core_count\": 43.08467489321311, \"start_time\": \"1970-02-28T15:42:13+08:00\"}\n"
     ]
    },
    {
     "data": {
      "text/plain": [
       "56870      None\n",
       "371411     None\n",
       "356630     None\n",
       "1012492    None\n",
       "1198865    None\n",
       "           ... \n",
       "961510     None\n",
       "147117     None\n",
       "24284      None\n",
       "798044     None\n",
       "682711     None\n",
       "Length: 100, dtype: object"
      ]
     },
     "execution_count": 26,
     "metadata": {},
     "output_type": "execute_result"
    }
   ],
   "source": [
    "def to_json(row: pd.Series) -> str:\n",
    "    return json.dumps({\"runtime_s\": row.runtime.total_seconds(),\n",
    "            \"input_size_gb\": row.read / 1e9, \n",
    "            \"output_size_gb\": row.write / 1e9,\n",
    "            \"core_count\": row.cpu_usage / 100,\n",
    "            \"start_time\": row.start_time.isoformat()})\n",
    "\n",
    "sample.apply(to_json, axis=1).apply(print)"
   ]
  },
  {
   "cell_type": "code",
   "execution_count": 24,
   "metadata": {},
   "outputs": [
    {
     "data": {
      "text/plain": [
       "count                        49774\n",
       "mean     0 days 00:56:04.718708562\n",
       "std      0 days 03:28:28.845548339\n",
       "min                0 days 00:00:14\n",
       "25%                0 days 00:01:03\n",
       "50%                0 days 00:03:36\n",
       "75%         0 days 00:21:58.750000\n",
       "max                6 days 15:37:13\n",
       "Name: runtime, dtype: object"
      ]
     },
     "execution_count": 24,
     "metadata": {},
     "output_type": "execute_result"
    }
   ],
   "source": [
    "df.runtime.describe()"
   ]
  },
  {
   "cell_type": "markdown",
   "metadata": {},
   "source": [
    "## Eligible job characteristics"
   ]
  },
  {
   "cell_type": "code",
   "execution_count": 25,
   "metadata": {},
   "outputs": [
    {
     "data": {
      "image/png": "[encoded data removed]",
      "text/plain": [
       "<Figure size 640x480 with 1 Axes>"
      ]
     },
     "metadata": {},
     "output_type": "display_data"
    }
   ],
   "source": [
    "fig, ax = plt.subplots()\n",
    "ax.scatter(df.start_time, df.cpu_usage * (df.runtime / pd.Timedelta(hours=1)), label=str((df.cpu_usage / 100 * (df.runtime / pd.Timedelta(hours=1))).describe().apply(\"{0:.5f}\".format)))\n",
    "\n",
    "locator = AutoDateLocator()\n",
    "ax.xaxis.set_major_locator(locator)\n",
    "ax.xaxis.set_major_formatter(ConciseDateFormatter(locator))\n",
    "ax.set_xlabel(\"Start Time (Asia/Shanghai)\")\n",
    "\n",
    "ax.yaxis.set_major_formatter(EngFormatter(unit=\"\"))\n",
    "ax.set_ylabel(\"CPUs (CPU * Hours)\")\n",
    "\n",
    "ax.legend()\n",
    "plt.show()"
   ]
  },
  {
   "cell_type": "code",
   "execution_count": 32,
   "metadata": {},
   "outputs": [
    {
     "data": {
      "text/plain": [
       "Timestamp('1970-01-23 07:26:14+0800', tz='Asia/Shanghai')"
      ]
     },
     "execution_count": 32,
     "metadata": {},
     "output_type": "execute_result"
    }
   ],
   "source": [
    "min(df.start_time)"
   ]
  },
  {
   "cell_type": "code",
   "execution_count": 61,
   "metadata": {},
   "outputs": [],
   "source": [
    "week = df[(df.start_time.dt.date >= datetime.date(year=1970, month=1, day=25)) &\n",
    "          (df.start_time.dt.date <= (datetime.date(year=1970, month=1, day=25) + datetime.timedelta(days=1)))]"
   ]
  },
  {
   "cell_type": "code",
   "execution_count": 62,
   "metadata": {},
   "outputs": [],
   "source": [
    "week.to_csv(\"day.csv\")"
   ]
  },
  {
   "cell_type": "code",
   "execution_count": null,
   "metadata": {},
   "outputs": [],
   "source": []
  },
  {
   "cell_type": "code",
   "execution_count": null,
   "metadata": {},
   "outputs": [],
   "source": []
  }
 ],
 "metadata": {
  "kernelspec": {
   "display_name": "Python 3 (ipykernel)",
   "language": "python",
   "name": "python3"
  },
  "language_info": {
   "codemirror_mode": {
    "name": "ipython",
    "version": 3
   },
   "file_extension": ".py",
   "mimetype": "text/x-python",
   "name": "python",
   "nbconvert_exporter": "python",
   "pygments_lexer": "ipython3",
   "version": "3.11.0rc1"
  },
  "toc": {
   "base_numbering": 1,
   "nav_menu": {},
   "number_sections": true,
   "sideBar": true,
   "skip_h1_title": false,
   "title_cell": "Table of Contents",
   "title_sidebar": "Contents",
   "toc_cell": false,
   "toc_position": {
    "height": "calc(100% - 180px)",
    "left": "10px",
    "top": "150px",
    "width": "165px"
   },
   "toc_section_display": true,
   "toc_window_display": false
  }
 },
 "nbformat": 4,
 "nbformat_minor": 4
}
