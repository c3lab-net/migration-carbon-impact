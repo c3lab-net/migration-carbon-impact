{
 "cells": [
  {
   "cell_type": "code",
   "execution_count": null,
   "metadata": {},
   "outputs": [],
   "source": [
    "import requests\n",
    "import numpy as np\n",
    "import os, sys\n",
    "import random\n",
    "import math\n",
    "import bisect\n",
    "import arrow\n",
    "import pytz\n",
    "from datetime import datetime, date, timedelta\n",
    "from dateutil import tz\n",
    "from timezonefinder import TimezoneFinder\n",
    "from matplotlib import pyplot as plt, dates\n",
    "from matplotlib.ticker import *\n",
    "from matplotlib_helper import *\n",
    "from carbon_api_client import *\n",
    "from typing import List"
   ]
  },
  {
   "cell_type": "code",
   "execution_count": null,
   "metadata": {},
   "outputs": [],
   "source": [
    "enable_savefig = False"
   ]
  },
  {
   "cell_type": "code",
   "execution_count": null,
   "metadata": {},
   "outputs": [],
   "source": [
    "def get_all_fuel_types(energy_mixture_timeseries):\n",
    "    fuel_types = set()\n",
    "    for entry in energy_mixture_timeseries:\n",
    "        fuel_types.update(entry['power_by_fuel_type'].keys())\n",
    "    return fuel_types"
   ]
  },
  {
   "cell_type": "code",
   "execution_count": null,
   "metadata": {},
   "outputs": [],
   "source": [
    "def get_timeseries_by_fuel_type(energy_mixture_timeseries, fuel_types):\n",
    "    d_timeseries_by_fuel_type = {}\n",
    "    for fuel_type in fuel_types:\n",
    "        d_timeseries_by_fuel_type[fuel_type] = []\n",
    "    for entry in energy_mixture_timeseries:\n",
    "        for fuel_type in fuel_types:\n",
    "            value = entry['power_by_fuel_type'][fuel_type] if fuel_type in entry['power_by_fuel_type'] else 0.\n",
    "            d_timeseries_by_fuel_type[fuel_type].append(value)\n",
    "    return d_timeseries_by_fuel_type"
   ]
  },
  {
   "cell_type": "code",
   "execution_count": null,
   "metadata": {},
   "outputs": [],
   "source": [
    "# Similar to the bar plot in supply trend in http://www.caiso.com/todaysoutlook/pages/supply.html\n",
    "\n",
    "region = 'US-CAISO'\n",
    "CA_GPS = (36.78, -119.78)\n",
    "\n",
    "target_date = arrow.get(date(2022, 7, 3), tzinfo=tz.gettz('America/Los_Angeles'))\n",
    "energy_mixture_timeseries = call_sysnet_energy_mixture_api(CA_GPS[0], CA_GPS[1], target_date, target_date.shift(days=1))\n",
    "# print(energy_mixture_timeseries[:2])\n",
    "\n",
    "timestamps = [e['timestamp'] for e in energy_mixture_timeseries]\n",
    "# fuel_types = get_all_fuel_types(energy_mixture_timeseries)\n",
    "fuel_types = { fuel_type for entry in energy_mixture_timeseries for fuel_type in entry['power_by_fuel_type'] }\n",
    "d_fuel_type_timeseries = get_timeseries_by_fuel_type(energy_mixture_timeseries, fuel_types)\n",
    "\n",
    "print('fuel_types', fuel_types)\n",
    "# print('timestamps len:', len(timestamps))\n",
    "# for fuel_type in d_fuel_type_timeseries:\n",
    "#     print(fuel_type, 'len:', len(d_fuel_type_timeseries[fuel_type]))\n",
    "\n",
    "plt.figure(figsize=(8, 4.8))\n",
    "fuel_order = []\n",
    "plot_colors = {\n",
    "    'coal': 'black',\n",
    "    'gas': '#F2915F',\n",
    "    'nuclear': '#808080',\n",
    "    'geothermal': 'brown',\n",
    "    'biomass': 'yellowgreen',\n",
    "    'hydro': '#40CDC4',\n",
    "    'wind': 'royalblue',\n",
    "    'solar': 'gold',\n",
    "}\n",
    "plot_stacked_line(timestamps, d_fuel_type_timeseries, order=plot_colors.keys(), d_label_colors=plot_colors)\n",
    "\n",
    "plt.xlabel('Time')\n",
    "plt.ylabel('Power (MW)')\n",
    "plt.title(f'Energy in MW by fuel type in {region} on {target_date.strftime(\"%Y-%m-%d\")}')\n",
    "# plt.legend(loc='center left', bbox_to_anchor=(1, 0.5))\n",
    "plt.legend(loc='center left', bbox_to_anchor=(1.04, 0.5), ncol=1)\n",
    "plt.xticks(rotation=15)\n",
    "# plt.ylim(0, 1000)\n",
    "plt.tight_layout()\n",
    "savefig_filename = 'energy-by-fuel-mix.%s.%s.png' % (target_date.strftime(\"%Y-%m-%d\"), region)\n",
    "if enable_savefig:\n",
    "    plt.savefig(savefig_filename)"
   ]
  },
  {
   "cell_type": "code",
   "execution_count": null,
   "metadata": {},
   "outputs": [],
   "source": []
  }
 ],
 "metadata": {
  "kernelspec": {
   "display_name": "Python 3.9.12 ('base')",
   "language": "python",
   "name": "python3"
  },
  "language_info": {
   "codemirror_mode": {
    "name": "ipython",
    "version": 3
   },
   "file_extension": ".py",
   "mimetype": "text/x-python",
   "name": "python",
   "nbconvert_exporter": "python",
   "pygments_lexer": "ipython3",
   "version": "3.9.12"
  },
  "orig_nbformat": 4,
  "vscode": {
   "interpreter": {
    "hash": "1c686f18b94c7ac93143553ca22fc47dddb45e62f4fa825973de80c268de3ec5"
   }
  }
 },
 "nbformat": 4,
 "nbformat_minor": 2
}
